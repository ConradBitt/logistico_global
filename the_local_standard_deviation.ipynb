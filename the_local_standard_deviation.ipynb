{
 "cells": [
  {
   "cell_type": "markdown",
   "id": "dc6705b8-febe-4e04-b674-66aa50838e17",
   "metadata": {},
   "source": [
    "# the local standard deviation \n",
    "\n",
    "$$\\sigma_l(m) = \\sqrt{\\frac{1}{N} \\sum [z_l,j - <z_l>]^2} $$"
   ]
  },
  {
   "cell_type": "code",
   "execution_count": 1,
   "id": "1a2422d5-37b0-406b-862e-1ae50ac2d6ce",
   "metadata": {},
   "outputs": [],
   "source": [
    "import numpy as np \n",
    "import pandas as pd "
   ]
  },
  {
   "cell_type": "code",
   "execution_count": 6,
   "id": "cf01b34e-5dfb-41e6-bb52-44ea50eb06f8",
   "metadata": {},
   "outputs": [],
   "source": [
    "dado_patricio = pd.read_csv('quimera_ultimo_standart_dev.dat', sep=' ',\n",
    "                           header=None)\n",
    "dado_patricio.columns = ['indice','valor']\n"
   ]
  },
  {
   "cell_type": "code",
   "execution_count": 11,
   "id": "2ef2453b-c9c0-49b3-bd2f-6ef1f20fd674",
   "metadata": {},
   "outputs": [],
   "source": [
    "x = dado_patricio.valor.to_numpy()"
   ]
  },
  {
   "cell_type": "code",
   "execution_count": null,
   "id": "d9316f78-9104-4021-a997-c268a7e0abc1",
   "metadata": {},
   "outputs": [],
   "source": [
    "def distance_z(x, l, d):\n",
    "    # z_i = x_i − x_{i+1}\n",
    "    \n",
    "    z = 0\n",
    "    for j in range(d):\n",
    "        z += x[j+]"
   ]
  },
  {
   "cell_type": "code",
   "execution_count": null,
   "id": "3763cd36-a59b-4531-820b-afdfddeece6c",
   "metadata": {},
   "outputs": [],
   "source": []
  }
 ],
 "metadata": {
  "kernelspec": {
   "display_name": "Python 3 (ipykernel)",
   "language": "python",
   "name": "python3"
  },
  "language_info": {
   "codemirror_mode": {
    "name": "ipython",
    "version": 3
   },
   "file_extension": ".py",
   "mimetype": "text/x-python",
   "name": "python",
   "nbconvert_exporter": "python",
   "pygments_lexer": "ipython3",
   "version": "3.10.6"
  }
 },
 "nbformat": 4,
 "nbformat_minor": 5
}
